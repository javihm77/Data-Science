{
 "cells": [
  {
   "cell_type": "code",
   "execution_count": 3,
   "id": "51315022",
   "metadata": {},
   "outputs": [],
   "source": [
    "import numpy as np\n",
    "import pandas as pd\n",
    "import random as rd\n",
    "import matplotlib.pyplot as plt\n",
    "import statistics as stat"
   ]
  },
  {
   "cell_type": "code",
   "execution_count": 4,
   "id": "b1ac0810",
   "metadata": {},
   "outputs": [],
   "source": [
    "sample = [ rd.randint(0,100) for _ in range(50) ]"
   ]
  },
  {
   "cell_type": "code",
   "execution_count": 5,
   "id": "96c731ae",
   "metadata": {},
   "outputs": [
    {
     "name": "stdout",
     "output_type": "stream",
     "text": [
      "[66, 37, 61, 12, 67, 67, 47, 48, 5, 11, 24, 17, 36, 53, 71, 65, 98, 19, 51, 35, 19, 27, 1, 15, 69, 21, 29, 55, 95, 13, 53, 25, 31, 34, 11, 65, 37, 77, 32, 9, 22, 41, 21, 12, 61, 75, 11, 4, 10, 30]\n"
     ]
    }
   ],
   "source": [
    "print(sample)"
   ]
  },
  {
   "cell_type": "markdown",
   "id": "e250d23c",
   "metadata": {},
   "source": [
    "### Mean - Median - Mode - Variance"
   ]
  },
  {
   "cell_type": "code",
   "execution_count": 6,
   "id": "9a3f8d6f",
   "metadata": {},
   "outputs": [
    {
     "name": "stdout",
     "output_type": "stream",
     "text": [
      "Mean:  37.9\n",
      "Median:  33.0\n",
      "Mode:  11\n",
      "Variance:  610.89\n"
     ]
    }
   ],
   "source": [
    "print(\"Mean: \",np.mean(sample))\n",
    "print(\"Median: \",np.median(sample))\n",
    "print(\"Mode: \",stat.mode(sample))\n",
    "print(\"Variance: \",np.var(sample))"
   ]
  },
  {
   "cell_type": "code",
   "execution_count": 15,
   "id": "d668ecc0",
   "metadata": {},
   "outputs": [
    {
     "data": {
      "image/png": "[encoded data removed]",
      "text/plain": [
       "<Figure size 432x288 with 1 Axes>"
      ]
     },
     "metadata": {
      "needs_background": "light"
     },
     "output_type": "display_data"
    }
   ],
   "source": [
    "gcolor = \"#A29FF4\"\n",
    "plt.hist(sample,rwidth=15,color=gcolor)\n",
    "plt.show()\n"
   ]
  },
  {
   "cell_type": "code",
   "execution_count": null,
   "id": "97edfaed",
   "metadata": {},
   "outputs": [],
   "source": []
  }
 ],
 "metadata": {
  "kernelspec": {
   "display_name": "Python 3",
   "language": "python",
   "name": "python3"
  },
  "language_info": {
   "codemirror_mode": {
    "name": "ipython",
    "version": 3
   },
   "file_extension": ".py",
   "mimetype": "text/x-python",
   "name": "python",
   "nbconvert_exporter": "python",
   "pygments_lexer": "ipython3",
   "version": "3.8.8"
  }
 },
 "nbformat": 4,
 "nbformat_minor": 5
}
