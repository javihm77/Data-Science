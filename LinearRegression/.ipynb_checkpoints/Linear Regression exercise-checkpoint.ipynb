{
 "cells": [
  {
   "cell_type": "markdown",
   "id": "22882868",
   "metadata": {},
   "source": [
    "# LINEAR REGRESSION EXERCISE"
   ]
  },
  {
   "cell_type": "markdown",
   "id": "1ed60c5f",
   "metadata": {},
   "source": [
    "Kaggle dataset and competition: https://www.kaggle.com/paolocons/small-dataset-about-used-fiat-500-sold-in-italy"
   ]
  },
  {
   "cell_type": "markdown",
   "id": "a1a90864",
   "metadata": {},
   "source": [
    "Example used as base: https://www.kaggle.com/javihm77/fiat500-linear-regression"
   ]
  },
  {
   "cell_type": "code",
   "execution_count": 1,
   "id": "358348f6",
   "metadata": {},
   "outputs": [],
   "source": [
    "import pandas as pd #we use this to load, read and transform the dataset\n",
    "import numpy as np #we use this for statistical analysis\n",
    "import matplotlib.pyplot as plt #we use this to visualize the dataset\n",
    "import seaborn as sns #we use this to make countplots\n",
    "import sklearn.metrics as sklm #This is to test the models"
   ]
  },
  {
   "cell_type": "code",
   "execution_count": 2,
   "id": "5bec8cd7",
   "metadata": {},
   "outputs": [
    {
     "data": {
      "text/html": [
       "<div>\n",
       "<style scoped>\n",
       "    .dataframe tbody tr th:only-of-type {\n",
       "        vertical-align: middle;\n",
       "    }\n",
       "\n",
       "    .dataframe tbody tr th {\n",
       "        vertical-align: top;\n",
       "    }\n",
       "\n",
       "    .dataframe thead th {\n",
       "        text-align: right;\n",
       "    }\n",
       "</style>\n",
       "<table border=\"1\" class=\"dataframe\">\n",
       "  <thead>\n",
       "    <tr style=\"text-align: right;\">\n",
       "      <th></th>\n",
       "      <th>model</th>\n",
       "      <th>engine_power</th>\n",
       "      <th>transmission</th>\n",
       "      <th>age_in_days</th>\n",
       "      <th>km</th>\n",
       "      <th>previous_owners</th>\n",
       "      <th>lat</th>\n",
       "      <th>lon</th>\n",
       "      <th>price</th>\n",
       "    </tr>\n",
       "  </thead>\n",
       "  <tbody>\n",
       "    <tr>\n",
       "      <th>0</th>\n",
       "      <td>pop</td>\n",
       "      <td>69</td>\n",
       "      <td>manual</td>\n",
       "      <td>4474</td>\n",
       "      <td>56779</td>\n",
       "      <td>2</td>\n",
       "      <td>45.071079</td>\n",
       "      <td>7.46403</td>\n",
       "      <td>4490</td>\n",
       "    </tr>\n",
       "    <tr>\n",
       "      <th>1</th>\n",
       "      <td>lounge</td>\n",
       "      <td>69</td>\n",
       "      <td>manual</td>\n",
       "      <td>2708</td>\n",
       "      <td>160000</td>\n",
       "      <td>1</td>\n",
       "      <td>45.069679</td>\n",
       "      <td>7.70492</td>\n",
       "      <td>4500</td>\n",
       "    </tr>\n",
       "    <tr>\n",
       "      <th>2</th>\n",
       "      <td>lounge</td>\n",
       "      <td>69</td>\n",
       "      <td>automatic</td>\n",
       "      <td>3470</td>\n",
       "      <td>170000</td>\n",
       "      <td>2</td>\n",
       "      <td>45.514599</td>\n",
       "      <td>9.28434</td>\n",
       "      <td>4500</td>\n",
       "    </tr>\n",
       "    <tr>\n",
       "      <th>3</th>\n",
       "      <td>sport</td>\n",
       "      <td>69</td>\n",
       "      <td>manual</td>\n",
       "      <td>3288</td>\n",
       "      <td>132000</td>\n",
       "      <td>2</td>\n",
       "      <td>41.903221</td>\n",
       "      <td>12.49565</td>\n",
       "      <td>4700</td>\n",
       "    </tr>\n",
       "    <tr>\n",
       "      <th>4</th>\n",
       "      <td>sport</td>\n",
       "      <td>69</td>\n",
       "      <td>manual</td>\n",
       "      <td>3712</td>\n",
       "      <td>124490</td>\n",
       "      <td>2</td>\n",
       "      <td>45.532661</td>\n",
       "      <td>9.03892</td>\n",
       "      <td>4790</td>\n",
       "    </tr>\n",
       "    <tr>\n",
       "      <th>5</th>\n",
       "      <td>lounge</td>\n",
       "      <td>69</td>\n",
       "      <td>manual</td>\n",
       "      <td>3684</td>\n",
       "      <td>91000</td>\n",
       "      <td>1</td>\n",
       "      <td>40.774780</td>\n",
       "      <td>14.59192</td>\n",
       "      <td>4900</td>\n",
       "    </tr>\n",
       "    <tr>\n",
       "      <th>6</th>\n",
       "      <td>lounge</td>\n",
       "      <td>69</td>\n",
       "      <td>automatic</td>\n",
       "      <td>4353</td>\n",
       "      <td>90068</td>\n",
       "      <td>1</td>\n",
       "      <td>41.726700</td>\n",
       "      <td>13.00980</td>\n",
       "      <td>4950</td>\n",
       "    </tr>\n",
       "    <tr>\n",
       "      <th>7</th>\n",
       "      <td>pop</td>\n",
       "      <td>69</td>\n",
       "      <td>manual</td>\n",
       "      <td>4414</td>\n",
       "      <td>69000</td>\n",
       "      <td>2</td>\n",
       "      <td>45.056599</td>\n",
       "      <td>9.70176</td>\n",
       "      <td>5290</td>\n",
       "    </tr>\n",
       "  </tbody>\n",
       "</table>\n",
       "</div>"
      ],
      "text/plain": [
       "    model  engine_power transmission  age_in_days      km  previous_owners  \\\n",
       "0     pop            69       manual         4474   56779                2   \n",
       "1  lounge            69       manual         2708  160000                1   \n",
       "2  lounge            69    automatic         3470  170000                2   \n",
       "3   sport            69       manual         3288  132000                2   \n",
       "4   sport            69       manual         3712  124490                2   \n",
       "5  lounge            69       manual         3684   91000                1   \n",
       "6  lounge            69    automatic         4353   90068                1   \n",
       "7     pop            69       manual         4414   69000                2   \n",
       "\n",
       "         lat       lon  price  \n",
       "0  45.071079   7.46403   4490  \n",
       "1  45.069679   7.70492   4500  \n",
       "2  45.514599   9.28434   4500  \n",
       "3  41.903221  12.49565   4700  \n",
       "4  45.532661   9.03892   4790  \n",
       "5  40.774780  14.59192   4900  \n",
       "6  41.726700  13.00980   4950  \n",
       "7  45.056599   9.70176   5290  "
      ]
     },
     "execution_count": 2,
     "metadata": {},
     "output_type": "execute_result"
    }
   ],
   "source": [
    "#here we load the train data\n",
    "data = pd.read_csv('Used_fiat_500_in_Italy_dataset.csv')\n",
    "\n",
    "#and immediately I would like to see how this dataset looks like\n",
    "data.head(8)"
   ]
  },
  {
   "cell_type": "code",
   "execution_count": 3,
   "id": "f6458191",
   "metadata": {},
   "outputs": [
    {
     "name": "stdout",
     "output_type": "stream",
     "text": [
      "<class 'pandas.core.frame.DataFrame'>\n",
      "RangeIndex: 380 entries, 0 to 379\n",
      "Data columns (total 9 columns):\n",
      " #   Column           Non-Null Count  Dtype  \n",
      "---  ------           --------------  -----  \n",
      " 0   model            380 non-null    object \n",
      " 1   engine_power     380 non-null    int64  \n",
      " 2   transmission     380 non-null    object \n",
      " 3   age_in_days      380 non-null    int64  \n",
      " 4   km               380 non-null    int64  \n",
      " 5   previous_owners  380 non-null    int64  \n",
      " 6   lat              380 non-null    float64\n",
      " 7   lon              380 non-null    float64\n",
      " 8   price            380 non-null    int64  \n",
      "dtypes: float64(2), int64(5), object(2)\n",
      "memory usage: 26.8+ KB\n"
     ]
    }
   ],
   "source": [
    "#now let's look closer at the dataset we got\n",
    "data.info()"
   ]
  },
  {
   "cell_type": "code",
   "execution_count": 4,
   "id": "638bb951",
   "metadata": {},
   "outputs": [
    {
     "data": {
      "text/plain": [
       "(380, 9)"
      ]
     },
     "execution_count": 4,
     "metadata": {},
     "output_type": "execute_result"
    }
   ],
   "source": [
    "data.shape"
   ]
  },
  {
   "cell_type": "code",
   "execution_count": 5,
   "id": "7fad686c",
   "metadata": {},
   "outputs": [
    {
     "data": {
      "text/html": [
       "<div>\n",
       "<style scoped>\n",
       "    .dataframe tbody tr th:only-of-type {\n",
       "        vertical-align: middle;\n",
       "    }\n",
       "\n",
       "    .dataframe tbody tr th {\n",
       "        vertical-align: top;\n",
       "    }\n",
       "\n",
       "    .dataframe thead th {\n",
       "        text-align: right;\n",
       "    }\n",
       "</style>\n",
       "<table border=\"1\" class=\"dataframe\">\n",
       "  <thead>\n",
       "    <tr style=\"text-align: right;\">\n",
       "      <th></th>\n",
       "      <th>engine_power</th>\n",
       "      <th>age_in_days</th>\n",
       "      <th>km</th>\n",
       "      <th>previous_owners</th>\n",
       "      <th>lat</th>\n",
       "      <th>lon</th>\n",
       "      <th>price</th>\n",
       "    </tr>\n",
       "  </thead>\n",
       "  <tbody>\n",
       "    <tr>\n",
       "      <th>count</th>\n",
       "      <td>380.000000</td>\n",
       "      <td>380.000000</td>\n",
       "      <td>380.000000</td>\n",
       "      <td>380.000000</td>\n",
       "      <td>380.000000</td>\n",
       "      <td>380.000000</td>\n",
       "      <td>380.000000</td>\n",
       "    </tr>\n",
       "    <tr>\n",
       "      <th>mean</th>\n",
       "      <td>73.015789</td>\n",
       "      <td>3310.265789</td>\n",
       "      <td>102196.250000</td>\n",
       "      <td>1.510526</td>\n",
       "      <td>44.257712</td>\n",
       "      <td>10.742644</td>\n",
       "      <td>5881.655263</td>\n",
       "    </tr>\n",
       "    <tr>\n",
       "      <th>std</th>\n",
       "      <td>9.984672</td>\n",
       "      <td>1437.555063</td>\n",
       "      <td>47115.355234</td>\n",
       "      <td>0.560244</td>\n",
       "      <td>1.767518</td>\n",
       "      <td>2.167753</td>\n",
       "      <td>2170.617946</td>\n",
       "    </tr>\n",
       "    <tr>\n",
       "      <th>min</th>\n",
       "      <td>69.000000</td>\n",
       "      <td>91.000000</td>\n",
       "      <td>4981.000000</td>\n",
       "      <td>1.000000</td>\n",
       "      <td>37.510872</td>\n",
       "      <td>7.320720</td>\n",
       "      <td>2890.000000</td>\n",
       "    </tr>\n",
       "    <tr>\n",
       "      <th>25%</th>\n",
       "      <td>69.000000</td>\n",
       "      <td>3097.250000</td>\n",
       "      <td>76611.750000</td>\n",
       "      <td>1.000000</td>\n",
       "      <td>43.514196</td>\n",
       "      <td>9.159140</td>\n",
       "      <td>4600.000000</td>\n",
       "    </tr>\n",
       "    <tr>\n",
       "      <th>50%</th>\n",
       "      <td>69.000000</td>\n",
       "      <td>3927.000000</td>\n",
       "      <td>112000.000000</td>\n",
       "      <td>1.000000</td>\n",
       "      <td>45.069679</td>\n",
       "      <td>10.301505</td>\n",
       "      <td>5000.000000</td>\n",
       "    </tr>\n",
       "    <tr>\n",
       "      <th>75%</th>\n",
       "      <td>69.000000</td>\n",
       "      <td>4322.000000</td>\n",
       "      <td>135000.000000</td>\n",
       "      <td>2.000000</td>\n",
       "      <td>45.556942</td>\n",
       "      <td>12.346788</td>\n",
       "      <td>5500.000000</td>\n",
       "    </tr>\n",
       "    <tr>\n",
       "      <th>max</th>\n",
       "      <td>101.000000</td>\n",
       "      <td>4719.000000</td>\n",
       "      <td>259000.000000</td>\n",
       "      <td>4.000000</td>\n",
       "      <td>46.781651</td>\n",
       "      <td>18.168011</td>\n",
       "      <td>15900.000000</td>\n",
       "    </tr>\n",
       "  </tbody>\n",
       "</table>\n",
       "</div>"
      ],
      "text/plain": [
       "       engine_power  age_in_days             km  previous_owners         lat  \\\n",
       "count    380.000000   380.000000     380.000000       380.000000  380.000000   \n",
       "mean      73.015789  3310.265789  102196.250000         1.510526   44.257712   \n",
       "std        9.984672  1437.555063   47115.355234         0.560244    1.767518   \n",
       "min       69.000000    91.000000    4981.000000         1.000000   37.510872   \n",
       "25%       69.000000  3097.250000   76611.750000         1.000000   43.514196   \n",
       "50%       69.000000  3927.000000  112000.000000         1.000000   45.069679   \n",
       "75%       69.000000  4322.000000  135000.000000         2.000000   45.556942   \n",
       "max      101.000000  4719.000000  259000.000000         4.000000   46.781651   \n",
       "\n",
       "              lon         price  \n",
       "count  380.000000    380.000000  \n",
       "mean    10.742644   5881.655263  \n",
       "std      2.167753   2170.617946  \n",
       "min      7.320720   2890.000000  \n",
       "25%      9.159140   4600.000000  \n",
       "50%     10.301505   5000.000000  \n",
       "75%     12.346788   5500.000000  \n",
       "max     18.168011  15900.000000  "
      ]
     },
     "execution_count": 5,
     "metadata": {},
     "output_type": "execute_result"
    }
   ],
   "source": [
    "data.describe()"
   ]
  },
  {
   "cell_type": "code",
   "execution_count": 6,
   "id": "adc10ba2",
   "metadata": {},
   "outputs": [
    {
     "name": "stdout",
     "output_type": "stream",
     "text": [
      "['pop' 'lounge' 'sport' 'star']\n"
     ]
    }
   ],
   "source": [
    "#Let's see what the options are in the model column (the objects)\n",
    "print(data['model'].unique())"
   ]
  },
  {
   "cell_type": "code",
   "execution_count": 7,
   "id": "0a51d1e2",
   "metadata": {},
   "outputs": [
    {
     "name": "stdout",
     "output_type": "stream",
     "text": [
      "['manual' 'automatic']\n"
     ]
    }
   ],
   "source": [
    "#Let's see what the options are in the transmission column (the objects)\n",
    "print(data['transmission'].unique())"
   ]
  },
  {
   "cell_type": "code",
   "execution_count": 8,
   "id": "fa642373",
   "metadata": {},
   "outputs": [],
   "source": [
    "#setting green color for graphics\n",
    "green_col = \"#3d9979\""
   ]
  },
  {
   "cell_type": "code",
   "execution_count": 9,
   "id": "6e7075a8",
   "metadata": {},
   "outputs": [
    {
     "data": {
      "text/plain": [
       "(array([ 33., 240.,  26.,  16.,  11.,  36.,  12.,   5.,   0.,   1.]),\n",
       " array([ 2890.,  4191.,  5492.,  6793.,  8094.,  9395., 10696., 11997.,\n",
       "        13298., 14599., 15900.]),\n",
       " <BarContainer object of 10 artists>)"
      ]
     },
     "execution_count": 9,
     "metadata": {},
     "output_type": "execute_result"
    },
    {
     "data": {
      "image/png": "[encoded data removed]",
      "text/plain": [
       "<Figure size 1008x576 with 1 Axes>"
      ]
     },
     "metadata": {
      "needs_background": "light"
     },
     "output_type": "display_data"
    }
   ],
   "source": [
    "#Now let's try a histogram\n",
    "fig = plt.figure(figsize =(14, 8))\n",
    "plt.xlabel('Price')\n",
    "plt.ylabel('Probability')\n",
    "plt.title('Histogram of Fiat Price')\n",
    "plt.grid(True)\n",
    "plt.hist(data['price'],facecolor=green_col)"
   ]
  },
  {
   "cell_type": "code",
   "execution_count": 10,
   "id": "2c60752f",
   "metadata": {},
   "outputs": [
    {
     "data": {
      "text/plain": [
       "{'whiskers': [<matplotlib.lines.Line2D at 0x7f8433384a60>,\n",
       "  <matplotlib.lines.Line2D at 0x7f8433384dc0>],\n",
       " 'caps': [<matplotlib.lines.Line2D at 0x7f8433392160>,\n",
       "  <matplotlib.lines.Line2D at 0x7f84333924c0>],\n",
       " 'boxes': [<matplotlib.patches.PathPatch at 0x7f8433384700>],\n",
       " 'medians': [<matplotlib.lines.Line2D at 0x7f8433392820>],\n",
       " 'fliers': [<matplotlib.lines.Line2D at 0x7f8433392b80>],\n",
       " 'means': []}"
      ]
     },
     "execution_count": 10,
     "metadata": {},
     "output_type": "execute_result"
    },
    {
     "data": {
      "image/png": "[encoded data removed]",
      "text/plain": [
       "<Figure size 1008x576 with 1 Axes>"
      ]
     },
     "metadata": {
      "needs_background": "light"
     },
     "output_type": "display_data"
    }
   ],
   "source": [
    "#Now we will try a Box & Wiskers plot\n",
    "fig = plt.figure(figsize =(14, 8))\n",
    "ax = fig.add_subplot()\n",
    "plt.title(\"Box & whisker Price\")\n",
    "green_diamond = dict(markerfacecolor='g', marker='D')\n",
    "green_whisker = dict(facecolor=green_col, color=\"green\")\n",
    "\n",
    "\n",
    "plt.boxplot(data['price'],flierprops=green_diamond,notch=True,patch_artist=True,boxprops=green_whisker)"
   ]
  },
  {
   "cell_type": "code",
   "execution_count": 11,
   "id": "eb1eee68",
   "metadata": {},
   "outputs": [
    {
     "data": {
      "text/html": [
       "<div>\n",
       "<style scoped>\n",
       "    .dataframe tbody tr th:only-of-type {\n",
       "        vertical-align: middle;\n",
       "    }\n",
       "\n",
       "    .dataframe tbody tr th {\n",
       "        vertical-align: top;\n",
       "    }\n",
       "\n",
       "    .dataframe thead th {\n",
       "        text-align: right;\n",
       "    }\n",
       "</style>\n",
       "<table border=\"1\" class=\"dataframe\">\n",
       "  <thead>\n",
       "    <tr style=\"text-align: right;\">\n",
       "      <th></th>\n",
       "      <th>model</th>\n",
       "      <th>engine_power</th>\n",
       "      <th>transmission</th>\n",
       "      <th>age_in_days</th>\n",
       "      <th>km</th>\n",
       "      <th>previous_owners</th>\n",
       "      <th>lat</th>\n",
       "      <th>lon</th>\n",
       "      <th>price</th>\n",
       "    </tr>\n",
       "  </thead>\n",
       "  <tbody>\n",
       "    <tr>\n",
       "      <th>97</th>\n",
       "      <td>pop</td>\n",
       "      <td>69</td>\n",
       "      <td>manual</td>\n",
       "      <td>91</td>\n",
       "      <td>56779</td>\n",
       "      <td>1</td>\n",
       "      <td>45.580879</td>\n",
       "      <td>12.36937</td>\n",
       "      <td>15900</td>\n",
       "    </tr>\n",
       "  </tbody>\n",
       "</table>\n",
       "</div>"
      ],
      "text/plain": [
       "   model  engine_power transmission  age_in_days     km  previous_owners  \\\n",
       "97   pop            69       manual           91  56779                1   \n",
       "\n",
       "          lat       lon  price  \n",
       "97  45.580879  12.36937  15900  "
      ]
     },
     "execution_count": 11,
     "metadata": {},
     "output_type": "execute_result"
    }
   ],
   "source": [
    "#Deeper view to Outliers\n",
    "outliers = data[data['price'] > 14000]\n",
    "outliers.head()"
   ]
  },
  {
   "cell_type": "code",
   "execution_count": 12,
   "id": "93186a62",
   "metadata": {},
   "outputs": [
    {
     "name": "stdout",
     "output_type": "stream",
     "text": [
      "<class 'pandas.core.frame.DataFrame'>\n",
      "RangeIndex: 380 entries, 0 to 379\n",
      "Data columns (total 9 columns):\n",
      " #   Column           Non-Null Count  Dtype   \n",
      "---  ------           --------------  -----   \n",
      " 0   model            380 non-null    category\n",
      " 1   engine_power     380 non-null    int64   \n",
      " 2   transmission     380 non-null    object  \n",
      " 3   age_in_days      380 non-null    int64   \n",
      " 4   km               380 non-null    int64   \n",
      " 5   previous_owners  380 non-null    int64   \n",
      " 6   lat              380 non-null    float64 \n",
      " 7   lon              380 non-null    float64 \n",
      " 8   price            380 non-null    int64   \n",
      "dtypes: category(1), float64(2), int64(5), object(1)\n",
      "memory usage: 24.4+ KB\n"
     ]
    }
   ],
   "source": [
    "#first let's set the model column as categorical\n",
    "data['model'] = data['model'].astype('category')\n",
    "data.info()"
   ]
  },
  {
   "cell_type": "code",
   "execution_count": 13,
   "id": "2e7561b3",
   "metadata": {},
   "outputs": [
    {
     "data": {
      "text/plain": [
       "Text(0.5, 0.98, 'Categorical Plotting')"
      ]
     },
     "execution_count": 13,
     "metadata": {},
     "output_type": "execute_result"
    },
    {
     "data": {
      "image/png": "[encoded data removed]",
      "text/plain": [
       "<Figure size 1080x360 with 2 Axes>"
      ]
     },
     "metadata": {
      "needs_background": "light"
     },
     "output_type": "display_data"
    }
   ],
   "source": [
    "#next let's plot per category how the data distribution looks like\n",
    "models = list(data['model'])\n",
    "values = list(data['price'])\n",
    "\n",
    "fig, axs = plt.subplots(1, 2, figsize=(15,5), sharey=True)\n",
    "axs[0].bar(models, values, facecolor=green_col)\n",
    "axs[1].scatter(models, values, facecolor=green_col)\n",
    "fig.suptitle('Categorical Plotting')"
   ]
  },
  {
   "cell_type": "code",
   "execution_count": 14,
   "id": "26de13a7",
   "metadata": {},
   "outputs": [
    {
     "data": {
      "image/png": "[encoded data removed]",
      "text/plain": [
       "<Figure size 720x504 with 1 Axes>"
      ]
     },
     "metadata": {
      "needs_background": "light"
     },
     "output_type": "display_data"
    }
   ],
   "source": [
    "#Make a countplot to see how many models are sold\n",
    "countplt, ax = plt.subplots(figsize = (10,7))\n",
    "ax =sns.countplot(x = 'model', data=data,facecolor=green_col)"
   ]
  },
  {
   "cell_type": "code",
   "execution_count": 15,
   "id": "bcff1dbf",
   "metadata": {},
   "outputs": [
    {
     "data": {
      "text/html": [
       "<div>\n",
       "<style scoped>\n",
       "    .dataframe tbody tr th:only-of-type {\n",
       "        vertical-align: middle;\n",
       "    }\n",
       "\n",
       "    .dataframe tbody tr th {\n",
       "        vertical-align: top;\n",
       "    }\n",
       "\n",
       "    .dataframe thead th {\n",
       "        text-align: right;\n",
       "    }\n",
       "</style>\n",
       "<table border=\"1\" class=\"dataframe\">\n",
       "  <thead>\n",
       "    <tr style=\"text-align: right;\">\n",
       "      <th></th>\n",
       "      <th>model</th>\n",
       "      <th>engine_power</th>\n",
       "      <th>transmission</th>\n",
       "      <th>age_in_days</th>\n",
       "      <th>km</th>\n",
       "      <th>previous_owners</th>\n",
       "      <th>lat</th>\n",
       "      <th>lon</th>\n",
       "      <th>price</th>\n",
       "    </tr>\n",
       "  </thead>\n",
       "  <tbody>\n",
       "    <tr>\n",
       "      <th>83</th>\n",
       "      <td>star</td>\n",
       "      <td>69</td>\n",
       "      <td>manual</td>\n",
       "      <td>275</td>\n",
       "      <td>7900</td>\n",
       "      <td>1</td>\n",
       "      <td>45.351528</td>\n",
       "      <td>10.84409</td>\n",
       "      <td>10990</td>\n",
       "    </tr>\n",
       "  </tbody>\n",
       "</table>\n",
       "</div>"
      ],
      "text/plain": [
       "   model  engine_power transmission  age_in_days    km  previous_owners  \\\n",
       "83  star            69       manual          275  7900                1   \n",
       "\n",
       "          lat       lon  price  \n",
       "83  45.351528  10.84409  10990  "
      ]
     },
     "execution_count": 15,
     "metadata": {},
     "output_type": "execute_result"
    }
   ],
   "source": [
    "#Unique star model \n",
    "star = data[data['model'] == 'star']\n",
    "star.head()"
   ]
  },
  {
   "cell_type": "code",
   "execution_count": 16,
   "id": "2315c57f",
   "metadata": {},
   "outputs": [
    {
     "name": "stdout",
     "output_type": "stream",
     "text": [
      "<class 'pandas.core.frame.DataFrame'>\n",
      "RangeIndex: 380 entries, 0 to 379\n",
      "Data columns (total 9 columns):\n",
      " #   Column           Non-Null Count  Dtype   \n",
      "---  ------           --------------  -----   \n",
      " 0   model            380 non-null    category\n",
      " 1   engine_power     380 non-null    int64   \n",
      " 2   transmission     380 non-null    object  \n",
      " 3   age_in_days      380 non-null    int64   \n",
      " 4   km               380 non-null    int64   \n",
      " 5   previous_owners  380 non-null    int64   \n",
      " 6   lat              380 non-null    float64 \n",
      " 7   lon              380 non-null    float64 \n",
      " 8   price            380 non-null    int64   \n",
      "dtypes: category(1), float64(2), int64(5), object(1)\n",
      "memory usage: 24.4+ KB\n"
     ]
    }
   ],
   "source": [
    "#Make all columns numeric\n",
    "data.info()"
   ]
  },
  {
   "cell_type": "code",
   "execution_count": 17,
   "id": "2894d185",
   "metadata": {},
   "outputs": [
    {
     "name": "stdout",
     "output_type": "stream",
     "text": [
      "<class 'pandas.core.frame.DataFrame'>\n",
      "RangeIndex: 380 entries, 0 to 379\n",
      "Data columns (total 9 columns):\n",
      " #   Column           Non-Null Count  Dtype  \n",
      "---  ------           --------------  -----  \n",
      " 0   model            380 non-null    int64  \n",
      " 1   engine_power     380 non-null    int64  \n",
      " 2   transmission     380 non-null    object \n",
      " 3   age_in_days      380 non-null    int64  \n",
      " 4   km               380 non-null    int64  \n",
      " 5   previous_owners  380 non-null    int64  \n",
      " 6   lat              380 non-null    float64\n",
      " 7   lon              380 non-null    float64\n",
      " 8   price            380 non-null    int64  \n",
      "dtypes: float64(2), int64(6), object(1)\n",
      "memory usage: 26.8+ KB\n"
     ]
    }
   ],
   "source": [
    "#the only two columns that are not numeric are 'model' and ' transmission'.\n",
    "#to show how we have changed the values, let's encode this manually\n",
    "model_dict = {'pop':4, 'lounge':3, 'sport':2, 'star':1}\n",
    "data['model'].replace(model_dict, inplace=True)\n",
    "data.info()"
   ]
  },
  {
   "cell_type": "code",
   "execution_count": 18,
   "id": "43d2ed45",
   "metadata": {},
   "outputs": [
    {
     "data": {
      "text/html": [
       "<div>\n",
       "<style scoped>\n",
       "    .dataframe tbody tr th:only-of-type {\n",
       "        vertical-align: middle;\n",
       "    }\n",
       "\n",
       "    .dataframe tbody tr th {\n",
       "        vertical-align: top;\n",
       "    }\n",
       "\n",
       "    .dataframe thead th {\n",
       "        text-align: right;\n",
       "    }\n",
       "</style>\n",
       "<table border=\"1\" class=\"dataframe\">\n",
       "  <thead>\n",
       "    <tr style=\"text-align: right;\">\n",
       "      <th></th>\n",
       "      <th>model</th>\n",
       "      <th>engine_power</th>\n",
       "      <th>transmission</th>\n",
       "      <th>age_in_days</th>\n",
       "      <th>km</th>\n",
       "      <th>previous_owners</th>\n",
       "      <th>lat</th>\n",
       "      <th>lon</th>\n",
       "      <th>price</th>\n",
       "    </tr>\n",
       "  </thead>\n",
       "  <tbody>\n",
       "    <tr>\n",
       "      <th>0</th>\n",
       "      <td>4</td>\n",
       "      <td>69</td>\n",
       "      <td>manual</td>\n",
       "      <td>4474</td>\n",
       "      <td>56779</td>\n",
       "      <td>2</td>\n",
       "      <td>45.071079</td>\n",
       "      <td>7.46403</td>\n",
       "      <td>4490</td>\n",
       "    </tr>\n",
       "    <tr>\n",
       "      <th>1</th>\n",
       "      <td>3</td>\n",
       "      <td>69</td>\n",
       "      <td>manual</td>\n",
       "      <td>2708</td>\n",
       "      <td>160000</td>\n",
       "      <td>1</td>\n",
       "      <td>45.069679</td>\n",
       "      <td>7.70492</td>\n",
       "      <td>4500</td>\n",
       "    </tr>\n",
       "    <tr>\n",
       "      <th>2</th>\n",
       "      <td>3</td>\n",
       "      <td>69</td>\n",
       "      <td>automatic</td>\n",
       "      <td>3470</td>\n",
       "      <td>170000</td>\n",
       "      <td>2</td>\n",
       "      <td>45.514599</td>\n",
       "      <td>9.28434</td>\n",
       "      <td>4500</td>\n",
       "    </tr>\n",
       "    <tr>\n",
       "      <th>3</th>\n",
       "      <td>2</td>\n",
       "      <td>69</td>\n",
       "      <td>manual</td>\n",
       "      <td>3288</td>\n",
       "      <td>132000</td>\n",
       "      <td>2</td>\n",
       "      <td>41.903221</td>\n",
       "      <td>12.49565</td>\n",
       "      <td>4700</td>\n",
       "    </tr>\n",
       "    <tr>\n",
       "      <th>4</th>\n",
       "      <td>2</td>\n",
       "      <td>69</td>\n",
       "      <td>manual</td>\n",
       "      <td>3712</td>\n",
       "      <td>124490</td>\n",
       "      <td>2</td>\n",
       "      <td>45.532661</td>\n",
       "      <td>9.03892</td>\n",
       "      <td>4790</td>\n",
       "    </tr>\n",
       "    <tr>\n",
       "      <th>5</th>\n",
       "      <td>3</td>\n",
       "      <td>69</td>\n",
       "      <td>manual</td>\n",
       "      <td>3684</td>\n",
       "      <td>91000</td>\n",
       "      <td>1</td>\n",
       "      <td>40.774780</td>\n",
       "      <td>14.59192</td>\n",
       "      <td>4900</td>\n",
       "    </tr>\n",
       "    <tr>\n",
       "      <th>6</th>\n",
       "      <td>3</td>\n",
       "      <td>69</td>\n",
       "      <td>automatic</td>\n",
       "      <td>4353</td>\n",
       "      <td>90068</td>\n",
       "      <td>1</td>\n",
       "      <td>41.726700</td>\n",
       "      <td>13.00980</td>\n",
       "      <td>4950</td>\n",
       "    </tr>\n",
       "    <tr>\n",
       "      <th>7</th>\n",
       "      <td>4</td>\n",
       "      <td>69</td>\n",
       "      <td>manual</td>\n",
       "      <td>4414</td>\n",
       "      <td>69000</td>\n",
       "      <td>2</td>\n",
       "      <td>45.056599</td>\n",
       "      <td>9.70176</td>\n",
       "      <td>5290</td>\n",
       "    </tr>\n",
       "  </tbody>\n",
       "</table>\n",
       "</div>"
      ],
      "text/plain": [
       "   model  engine_power transmission  age_in_days      km  previous_owners  \\\n",
       "0      4            69       manual         4474   56779                2   \n",
       "1      3            69       manual         2708  160000                1   \n",
       "2      3            69    automatic         3470  170000                2   \n",
       "3      2            69       manual         3288  132000                2   \n",
       "4      2            69       manual         3712  124490                2   \n",
       "5      3            69       manual         3684   91000                1   \n",
       "6      3            69    automatic         4353   90068                1   \n",
       "7      4            69       manual         4414   69000                2   \n",
       "\n",
       "         lat       lon  price  \n",
       "0  45.071079   7.46403   4490  \n",
       "1  45.069679   7.70492   4500  \n",
       "2  45.514599   9.28434   4500  \n",
       "3  41.903221  12.49565   4700  \n",
       "4  45.532661   9.03892   4790  \n",
       "5  40.774780  14.59192   4900  \n",
       "6  41.726700  13.00980   4950  \n",
       "7  45.056599   9.70176   5290  "
      ]
     },
     "execution_count": 18,
     "metadata": {},
     "output_type": "execute_result"
    }
   ],
   "source": [
    "data.head(8)"
   ]
  },
  {
   "cell_type": "code",
   "execution_count": 19,
   "id": "07968031",
   "metadata": {},
   "outputs": [
    {
     "name": "stdout",
     "output_type": "stream",
     "text": [
      "<class 'pandas.core.frame.DataFrame'>\n",
      "RangeIndex: 380 entries, 0 to 379\n",
      "Data columns (total 9 columns):\n",
      " #   Column           Non-Null Count  Dtype  \n",
      "---  ------           --------------  -----  \n",
      " 0   model            380 non-null    int64  \n",
      " 1   engine_power     380 non-null    int64  \n",
      " 2   transmission     380 non-null    int64  \n",
      " 3   age_in_days      380 non-null    int64  \n",
      " 4   km               380 non-null    int64  \n",
      " 5   previous_owners  380 non-null    int64  \n",
      " 6   lat              380 non-null    float64\n",
      " 7   lon              380 non-null    float64\n",
      " 8   price            380 non-null    int64  \n",
      "dtypes: float64(2), int64(7)\n",
      "memory usage: 26.8 KB\n"
     ]
    }
   ],
   "source": [
    "#the only two columns that are not numeric are 'model' and ' transmission'.\n",
    "#to show how we have changed the values, let's encode this manually\n",
    "trans_dict = {'manual':1, 'automatic':2}\n",
    "data['transmission'].replace(trans_dict, inplace=True)\n",
    "data.info()"
   ]
  },
  {
   "cell_type": "code",
   "execution_count": 20,
   "id": "b7eb632d",
   "metadata": {},
   "outputs": [
    {
     "data": {
      "text/html": [
       "<div>\n",
       "<style scoped>\n",
       "    .dataframe tbody tr th:only-of-type {\n",
       "        vertical-align: middle;\n",
       "    }\n",
       "\n",
       "    .dataframe tbody tr th {\n",
       "        vertical-align: top;\n",
       "    }\n",
       "\n",
       "    .dataframe thead th {\n",
       "        text-align: right;\n",
       "    }\n",
       "</style>\n",
       "<table border=\"1\" class=\"dataframe\">\n",
       "  <thead>\n",
       "    <tr style=\"text-align: right;\">\n",
       "      <th></th>\n",
       "      <th>model</th>\n",
       "      <th>engine_power</th>\n",
       "      <th>transmission</th>\n",
       "      <th>age_in_days</th>\n",
       "      <th>km</th>\n",
       "      <th>previous_owners</th>\n",
       "      <th>lat</th>\n",
       "      <th>lon</th>\n",
       "      <th>price</th>\n",
       "    </tr>\n",
       "  </thead>\n",
       "  <tbody>\n",
       "    <tr>\n",
       "      <th>0</th>\n",
       "      <td>4</td>\n",
       "      <td>69</td>\n",
       "      <td>1</td>\n",
       "      <td>4474</td>\n",
       "      <td>56779</td>\n",
       "      <td>2</td>\n",
       "      <td>45.071079</td>\n",
       "      <td>7.46403</td>\n",
       "      <td>4490</td>\n",
       "    </tr>\n",
       "    <tr>\n",
       "      <th>1</th>\n",
       "      <td>3</td>\n",
       "      <td>69</td>\n",
       "      <td>1</td>\n",
       "      <td>2708</td>\n",
       "      <td>160000</td>\n",
       "      <td>1</td>\n",
       "      <td>45.069679</td>\n",
       "      <td>7.70492</td>\n",
       "      <td>4500</td>\n",
       "    </tr>\n",
       "    <tr>\n",
       "      <th>2</th>\n",
       "      <td>3</td>\n",
       "      <td>69</td>\n",
       "      <td>2</td>\n",
       "      <td>3470</td>\n",
       "      <td>170000</td>\n",
       "      <td>2</td>\n",
       "      <td>45.514599</td>\n",
       "      <td>9.28434</td>\n",
       "      <td>4500</td>\n",
       "    </tr>\n",
       "    <tr>\n",
       "      <th>3</th>\n",
       "      <td>2</td>\n",
       "      <td>69</td>\n",
       "      <td>1</td>\n",
       "      <td>3288</td>\n",
       "      <td>132000</td>\n",
       "      <td>2</td>\n",
       "      <td>41.903221</td>\n",
       "      <td>12.49565</td>\n",
       "      <td>4700</td>\n",
       "    </tr>\n",
       "    <tr>\n",
       "      <th>4</th>\n",
       "      <td>2</td>\n",
       "      <td>69</td>\n",
       "      <td>1</td>\n",
       "      <td>3712</td>\n",
       "      <td>124490</td>\n",
       "      <td>2</td>\n",
       "      <td>45.532661</td>\n",
       "      <td>9.03892</td>\n",
       "      <td>4790</td>\n",
       "    </tr>\n",
       "    <tr>\n",
       "      <th>5</th>\n",
       "      <td>3</td>\n",
       "      <td>69</td>\n",
       "      <td>1</td>\n",
       "      <td>3684</td>\n",
       "      <td>91000</td>\n",
       "      <td>1</td>\n",
       "      <td>40.774780</td>\n",
       "      <td>14.59192</td>\n",
       "      <td>4900</td>\n",
       "    </tr>\n",
       "    <tr>\n",
       "      <th>6</th>\n",
       "      <td>3</td>\n",
       "      <td>69</td>\n",
       "      <td>2</td>\n",
       "      <td>4353</td>\n",
       "      <td>90068</td>\n",
       "      <td>1</td>\n",
       "      <td>41.726700</td>\n",
       "      <td>13.00980</td>\n",
       "      <td>4950</td>\n",
       "    </tr>\n",
       "    <tr>\n",
       "      <th>7</th>\n",
       "      <td>4</td>\n",
       "      <td>69</td>\n",
       "      <td>1</td>\n",
       "      <td>4414</td>\n",
       "      <td>69000</td>\n",
       "      <td>2</td>\n",
       "      <td>45.056599</td>\n",
       "      <td>9.70176</td>\n",
       "      <td>5290</td>\n",
       "    </tr>\n",
       "  </tbody>\n",
       "</table>\n",
       "</div>"
      ],
      "text/plain": [
       "   model  engine_power  transmission  age_in_days      km  previous_owners  \\\n",
       "0      4            69             1         4474   56779                2   \n",
       "1      3            69             1         2708  160000                1   \n",
       "2      3            69             2         3470  170000                2   \n",
       "3      2            69             1         3288  132000                2   \n",
       "4      2            69             1         3712  124490                2   \n",
       "5      3            69             1         3684   91000                1   \n",
       "6      3            69             2         4353   90068                1   \n",
       "7      4            69             1         4414   69000                2   \n",
       "\n",
       "         lat       lon  price  \n",
       "0  45.071079   7.46403   4490  \n",
       "1  45.069679   7.70492   4500  \n",
       "2  45.514599   9.28434   4500  \n",
       "3  41.903221  12.49565   4700  \n",
       "4  45.532661   9.03892   4790  \n",
       "5  40.774780  14.59192   4900  \n",
       "6  41.726700  13.00980   4950  \n",
       "7  45.056599   9.70176   5290  "
      ]
     },
     "execution_count": 20,
     "metadata": {},
     "output_type": "execute_result"
    }
   ],
   "source": [
    "data.head(8)"
   ]
  },
  {
   "cell_type": "markdown",
   "id": "4d38d68c",
   "metadata": {},
   "source": [
    "## Selecting most important features"
   ]
  },
  {
   "cell_type": "code",
   "execution_count": 21,
   "id": "7775dc1f",
   "metadata": {},
   "outputs": [],
   "source": [
    "#First we need to split the dataset in the y-column (the target) and the components (X), the independent columns. \n",
    "#This is needed as we need to use the X columns to predict the y in the model. \n",
    "\n",
    "y = data['price'] #the column we want to predict \n",
    "X = data.drop(labels = ['price'], axis = 1)  #independent columns "
   ]
  },
  {
   "cell_type": "code",
   "execution_count": 22,
   "id": "b5ba0030",
   "metadata": {},
   "outputs": [],
   "source": [
    "#as Longitude and latitude are features which need to be combined to have an influence, we will drop them for now. \n",
    "X = X.drop(labels = ['lon', 'lat'], axis =1)"
   ]
  },
  {
   "cell_type": "code",
   "execution_count": 75,
   "id": "be4522b3",
   "metadata": {},
   "outputs": [
    {
     "data": {
      "text/plain": [
       "<Figure size 1080x360 with 0 Axes>"
      ]
     },
     "metadata": {},
     "output_type": "display_data"
    },
    {
     "data": {
      "image/png": "[encoded data removed]",
      "text/plain": [
       "<Figure size 576x360 with 1 Axes>"
      ]
     },
     "metadata": {
      "needs_background": "light"
     },
     "output_type": "display_data"
    }
   ],
   "source": [
    "#TEST 1 - ExtraTreesClassifier - GOOD IF YOU USE DECISION TREE MODELS\n",
    "from sklearn.ensemble import ExtraTreesClassifier\n",
    "import matplotlib.pyplot as plt\n",
    "model = ExtraTreesClassifier()\n",
    "model.fit(X,y)\n",
    "#print(model.feature_importances_) #use inbuilt class feature_importances of tree based classifiers\n",
    "#print(X.columns)\n",
    "\n",
    "#plot graph of feature importances for better visualization\n",
    "feat_importances = pd.DataFrame(model.feature_importances_, index=X.columns,columns=[\"importance\"]) \n",
    "imp = feat_importances.sort_values(by=['importance'],ascending=False)\n",
    "\n",
    "plt.figure(figsize=(15,5))\n",
    "fig, ax = plt.subplots(figsize=(8, 5))\n",
    "ax.barh(imp.index,imp[\"importance\"],color=green_col)\n",
    "ax.invert_yaxis()\n",
    "ax.set_title(\"Importance of variables\")\n",
    "ax.set_xlabel(\"Points\")\n",
    "\n",
    "plt.show()"
   ]
  },
  {
   "cell_type": "code",
   "execution_count": 76,
   "id": "3fbd1285",
   "metadata": {},
   "outputs": [
    {
     "data": {
      "text/plain": [
       "<Figure size 1080x360 with 0 Axes>"
      ]
     },
     "metadata": {},
     "output_type": "display_data"
    },
    {
     "data": {
      "image/png": "[encoded data removed]",
      "text/plain": [
       "<Figure size 576x360 with 1 Axes>"
      ]
     },
     "metadata": {
      "needs_background": "light"
     },
     "output_type": "display_data"
    }
   ],
   "source": [
    "#TEST 2 - SelectKBest - GOOD IF YOU USE A K-NEAREST NEIGHBOR MODEL\n",
    "from sklearn.feature_selection import SelectKBest\n",
    "from sklearn.feature_selection import chi2\n",
    "\n",
    "#apply SelectKBest class to extract top 10 best features\n",
    "bestfeatures = SelectKBest(score_func=chi2, k='all')\n",
    "fit = bestfeatures.fit(X,y)\n",
    "dfscores = pd.DataFrame(fit.scores_)\n",
    "dfcolumns = pd.DataFrame(X.columns)\n",
    "\n",
    "#concat two dataframes for better visualization \n",
    "featureScores = pd.concat([dfcolumns,dfscores],axis=1)\n",
    "featureScores.columns = ['Name of the column','Score']  #naming the dataframe columns\n",
    "featureScores = featureScores.sort_values(by=['Score'],ascending=False)\n",
    "#print(featureScores.nlargest(10,'Score'))  #print 10 best features\n",
    "imp = pd.DataFrame(featureScores)\n",
    "\n",
    "#plot graph of feature importances for better visualization\n",
    "plt.figure(figsize=(15,5))\n",
    "fig, ax = plt.subplots(figsize=(8, 5))\n",
    "ax.barh(imp[\"Name of the column\"],imp[\"Score\"],color=green_col)\n",
    "ax.invert_yaxis()\n",
    "ax.set_title(\"Importance of variables\")\n",
    "ax.set_xlabel(\"Points\")\n",
    "\n",
    "plt.show()\n"
   ]
  },
  {
   "cell_type": "code",
   "execution_count": 69,
   "id": "ead5cda5",
   "metadata": {},
   "outputs": [
    {
     "data": {
      "image/png": "[encoded data removed]",
      "text/plain": [
       "<Figure size 864x864 with 2 Axes>"
      ]
     },
     "metadata": {
      "needs_background": "light"
     },
     "output_type": "display_data"
    }
   ],
   "source": [
    "#TEST 3 - Correlations - Linear and logistic regression like correlated data to have a good prediction\n",
    "#get correlations of each features in dataset\n",
    "corrmat = data.drop(labels =['lon', 'lat'], axis = 1) #this is because it is the original target column and therefore has a high correlation with our percentage column\n",
    "corrmat = corrmat.corr()\n",
    "top_corr_features = corrmat.index\n",
    "plt.figure(figsize=(12,12))\n",
    "\n",
    "#plot heat map\n",
    "g=sns.heatmap(data[top_corr_features].corr(),annot=True,cmap=\"RdYlGn\")"
   ]
  },
  {
   "cell_type": "markdown",
   "id": "a717225c",
   "metadata": {},
   "source": [
    "## Linear Regression model"
   ]
  },
  {
   "cell_type": "code",
   "execution_count": 77,
   "id": "83d3ee0f",
   "metadata": {},
   "outputs": [],
   "source": [
    "#Load the chosen model here\n",
    "from sklearn.linear_model import LinearRegression"
   ]
  },
  {
   "cell_type": "markdown",
   "id": "f0411f5e",
   "metadata": {},
   "source": [
    "### Split train test model"
   ]
  },
  {
   "cell_type": "code",
   "execution_count": 79,
   "id": "fa3ea27a",
   "metadata": {},
   "outputs": [
    {
     "name": "stdout",
     "output_type": "stream",
     "text": [
      "Shape of X_train is:  (247, 6)\n",
      "Shape of X_test is:  (133, 6)\n",
      "Shape of Y_train is:  (247,)\n",
      "Shape of y_test is:  (133,)\n"
     ]
    }
   ],
   "source": [
    "from sklearn.model_selection import train_test_split\n",
    "\n",
    "#First try with all features\n",
    "\n",
    "#I want to withhold 35 % of the trainset to perform the tests\n",
    "X_train, X_test, y_train, y_test = train_test_split(X,y, test_size=0.35 , random_state = 25)\n",
    "\n",
    "print('Shape of X_train is: ', X_train.shape)\n",
    "print('Shape of X_test is: ', X_test.shape)\n",
    "print('Shape of Y_train is: ', y_train.shape)\n",
    "print('Shape of y_test is: ', y_test.shape)"
   ]
  },
  {
   "cell_type": "code",
   "execution_count": 80,
   "id": "42d0c77b",
   "metadata": {},
   "outputs": [],
   "source": [
    "#To check the model, I want to build a check:\n",
    "import math\n",
    "def print_metrics(y_true, y_predicted, n_parameters):\n",
    "    ## First compute R^2 and the adjusted R^2\n",
    "    r2 = sklm.r2_score(y_true, y_predicted)\n",
    "    r2_adj = r2 - (n_parameters - 1)/(y_true.shape[0] - n_parameters) * (1 - r2)\n",
    "    \n",
    "    ## Print the usual metrics and the R^2 values\n",
    "    print('Mean Square Error      = ' + str(sklm.mean_squared_error(y_true, y_predicted)))\n",
    "    print('Root Mean Square Error = ' + str(math.sqrt(sklm.mean_squared_error(y_true, y_predicted))))\n",
    "    print('Mean Absolute Error    = ' + str(sklm.mean_absolute_error(y_true, y_predicted)))\n",
    "    print('Median Absolute Error  = ' + str(sklm.median_absolute_error(y_true, y_predicted)))\n",
    "    print('R^2                    = ' + str(r2))\n",
    "    print('Adjusted R^2           = ' + str(r2_adj)) #This is the number we will be focussing on. \n",
    "    #A good model would have an adjusted R2 of >70%, a bad model below this. "
   ]
  },
  {
   "cell_type": "code",
   "execution_count": 81,
   "id": "401a3b16",
   "metadata": {},
   "outputs": [
    {
     "data": {
      "text/plain": [
       "LinearRegression()"
      ]
     },
     "execution_count": 81,
     "metadata": {},
     "output_type": "execute_result"
    }
   ],
   "source": [
    "# Linear regression model\n",
    "model = LinearRegression() \n",
    "model.fit(X_train, y_train)"
   ]
  },
  {
   "cell_type": "code",
   "execution_count": 82,
   "id": "68282384",
   "metadata": {},
   "outputs": [
    {
     "name": "stdout",
     "output_type": "stream",
     "text": [
      "Mean Square Error      = 855710.904845218\n",
      "Root Mean Square Error = 925.0464338860066\n",
      "Mean Absolute Error    = 615.8743867209258\n",
      "Median Absolute Error  = 469.42144369691596\n",
      "R^2                    = 0.7983534747622312\n",
      "Adjusted R^2           = 0.790414635185941\n"
     ]
    }
   ],
   "source": [
    "#Now let's see how this model performs\n",
    "Predictions = model.predict(X_test)\n",
    "print_metrics(y_test, Predictions, 6)"
   ]
  },
  {
   "cell_type": "code",
   "execution_count": null,
   "id": "4fb50fe2",
   "metadata": {},
   "outputs": [],
   "source": []
  }
 ],
 "metadata": {
  "kernelspec": {
   "display_name": "Python 3",
   "language": "python",
   "name": "python3"
  },
  "language_info": {
   "codemirror_mode": {
    "name": "ipython",
    "version": 3
   },
   "file_extension": ".py",
   "mimetype": "text/x-python",
   "name": "python",
   "nbconvert_exporter": "python",
   "pygments_lexer": "ipython3",
   "version": "3.8.8"
  }
 },
 "nbformat": 4,
 "nbformat_minor": 5
}
