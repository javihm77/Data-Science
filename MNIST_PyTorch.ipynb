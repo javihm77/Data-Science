{
  "nbformat": 4,
  "nbformat_minor": 0,
  "metadata": {
    "colab": {
      "provenance": [],
      "gpuType": "T4",
      "authorship_tag": "ABX9TyPhgCFe1UiSDpQzidjIGgsS",
      "include_colab_link": true
    },
    "kernelspec": {
      "name": "python3",
      "display_name": "Python 3"
    },
    "language_info": {
      "name": "python"
    },
    "accelerator": "GPU"
  },
  "cells": [
    {
      "cell_type": "markdown",
      "metadata": {
        "id": "view-in-github",
        "colab_type": "text"
      },
      "source": [
        "<a href=\"https://colab.research.google.com/github/javihm77/Data-Science/blob/master/MNIST_PyTorch.ipynb\" target=\"_parent\"><img src=\"https://colab.research.google.com/assets/colab-badge.svg\" alt=\"Open In Colab\"/></a>"
      ]
    },
    {
      "cell_type": "code",
      "execution_count": null,
      "metadata": {
        "id": "cB5YMO0o4WK9"
      },
      "outputs": [],
      "source": [
        "# Import dependencies\n",
        "import torch\n",
        "from PIL import Image\n",
        "from torch import nn, save, load\n",
        "from torch.optim import Adam\n",
        "from torch.utils.data import DataLoader\n",
        "from torchvision import datasets\n",
        "from torchvision.transforms import ToTensor"
      ]
    },
    {
      "cell_type": "code",
      "source": [
        "# Get data\n",
        "train = datasets.MNIST(root=\"data\", download=True, train=True, transform=ToTensor())\n",
        "dataset = DataLoader(train, 32)\n",
        "#1,28,28 - classes 0-9"
      ],
      "metadata": {
        "id": "10gEC6Ef4gys"
      },
      "execution_count": null,
      "outputs": []
    },
    {
      "cell_type": "code",
      "source": [
        "from google.colab import drive\n",
        "drive.mount('/content/drive')"
      ],
      "metadata": {
        "colab": {
          "base_uri": "https://localhost:8080/"
        },
        "id": "_-kPsCLP7NU4",
        "outputId": "8c4cff37-f5cb-4c61-868c-68ad85b0c2c8"
      },
      "execution_count": null,
      "outputs": [
        {
          "output_type": "stream",
          "name": "stdout",
          "text": [
            "Drive already mounted at /content/drive; to attempt to forcibly remount, call drive.mount(\"/content/drive\", force_remount=True).\n"
          ]
        }
      ]
    },
    {
      "cell_type": "code",
      "source": [
        "# Image Classifier Neural Network\n",
        "class ImageClassifier(nn.Module):\n",
        "    def __init__(self):\n",
        "        super().__init__()\n",
        "        self.model = nn.Sequential(\n",
        "            nn.Conv2d(1, 32, (3,3)),\n",
        "            nn.ReLU(),\n",
        "            nn.Conv2d(32, 64, (3,3)),\n",
        "            nn.ReLU(),\n",
        "            nn.Conv2d(64, 64, (3,3)),\n",
        "            nn.ReLU(),\n",
        "            nn.Flatten(),\n",
        "            nn.Linear(64*(28-6)*(28-6), 10)\n",
        "        )\n",
        "\n",
        "    def forward(self, x):\n",
        "        return self.model(x)"
      ],
      "metadata": {
        "id": "ChVMmgB_4hSF"
      },
      "execution_count": null,
      "outputs": []
    },
    {
      "cell_type": "code",
      "source": [
        "# Instance of the neural network, loss, optimizer\n",
        "\n",
        "clf = ImageClassifier().to('cuda')\n",
        "#clf = ImageClassifier()\n",
        "opt = Adam(clf.parameters(), lr=1e-3)\n",
        "loss_fn = nn.CrossEntropyLoss()"
      ],
      "metadata": {
        "id": "ZcYPo6KP4hks"
      },
      "execution_count": null,
      "outputs": []
    },
    {
      "cell_type": "code",
      "source": [
        "# Training flow\n",
        "if __name__ == \"__main__\":\n",
        "    for epoch in range(10): # train for 10 epochs\n",
        "        for batch in dataset:\n",
        "            X,y = batch\n",
        "            X, y = X.to('cuda'), y.to('cuda')\n",
        "            yhat = clf(X)\n",
        "            loss = loss_fn(yhat, y)\n",
        "\n",
        "            # Apply backprop\n",
        "            opt.zero_grad()\n",
        "            loss.backward()\n",
        "            opt.step()\n",
        "\n",
        "        print(f\"Epoch:{epoch} loss is {loss.item()}\")\n",
        "\n",
        "    with open('model_state.pt', 'wb') as f:\n",
        "        save(clf.state_dict(), f)\n",
        "\n",
        "    with open('model_state.pt', 'rb') as f:\n",
        "        clf.load_state_dict(load(f))\n"
      ],
      "metadata": {
        "colab": {
          "base_uri": "https://localhost:8080/"
        },
        "id": "Bw0AQa374h1H",
        "outputId": "3a9cfae3-490c-4285-dc88-917f5fa47fc2"
      },
      "execution_count": null,
      "outputs": [
        {
          "output_type": "stream",
          "name": "stdout",
          "text": [
            "Epoch:0 loss is 0.1106119304895401\n",
            "Epoch:1 loss is 0.009917056187987328\n",
            "Epoch:2 loss is 0.0006126470398157835\n",
            "Epoch:3 loss is 0.005838518030941486\n",
            "Epoch:4 loss is 5.2450504881562665e-05\n",
            "Epoch:5 loss is 2.6781784981722012e-05\n",
            "Epoch:6 loss is 0.04229090362787247\n",
            "Epoch:7 loss is 0.0001805765787139535\n",
            "Epoch:8 loss is 9.977917216019705e-05\n",
            "Epoch:9 loss is 2.583107925602235e-05\n"
          ]
        },
        {
          "output_type": "stream",
          "name": "stderr",
          "text": [
            "<ipython-input-6-d4ef3289aee7>:21: FutureWarning: You are using `torch.load` with `weights_only=False` (the current default value), which uses the default pickle module implicitly. It is possible to construct malicious pickle data which will execute arbitrary code during unpickling (See https://github.com/pytorch/pytorch/blob/main/SECURITY.md#untrusted-models for more details). In a future release, the default value for `weights_only` will be flipped to `True`. This limits the functions that could be executed during unpickling. Arbitrary objects will no longer be allowed to be loaded via this mode unless they are explicitly allowlisted by the user via `torch.serialization.add_safe_globals`. We recommend you start setting `weights_only=True` for any use case where you don't have full control of the loaded file. Please open an issue on GitHub for any issues related to this experimental feature.\n",
            "  clf.load_state_dict(load(f))\n"
          ]
        }
      ]
    },
    {
      "cell_type": "code",
      "source": [
        "img = Image.open('img_1.jpg')\n",
        "\n",
        "img_tensor = ToTensor()(img).unsqueeze(0).to('cuda')\n",
        "\n",
        "print(torch.argmax(clf(img_tensor)))"
      ],
      "metadata": {
        "colab": {
          "base_uri": "https://localhost:8080/"
        },
        "id": "pF9_rRYb4nvi",
        "outputId": "421f54ed-1979-4ea2-89ba-c601b6c9e7b7"
      },
      "execution_count": null,
      "outputs": [
        {
          "output_type": "stream",
          "name": "stdout",
          "text": [
            "tensor(2, device='cuda:0')\n"
          ]
        }
      ]
    },
    {
      "cell_type": "code",
      "source": [
        "img = Image.open('img_2.jpg')\n",
        "img_tensor = ToTensor()(img).unsqueeze(0).to('cuda')\n",
        "\n",
        "print(torch.argmax(clf(img_tensor)))"
      ],
      "metadata": {
        "id": "pkVtVth04oEd",
        "colab": {
          "base_uri": "https://localhost:8080/"
        },
        "outputId": "4e268693-6742-4ce4-ab3b-45bfb22145f3"
      },
      "execution_count": null,
      "outputs": [
        {
          "output_type": "stream",
          "name": "stdout",
          "text": [
            "tensor(0, device='cuda:0')\n"
          ]
        }
      ]
    },
    {
      "cell_type": "code",
      "source": [
        "img = Image.open('img_3.jpg')\n",
        "img_tensor = ToTensor()(img).unsqueeze(0).to('cuda')\n",
        "\n",
        "print(torch.argmax(clf(img_tensor)))"
      ],
      "metadata": {
        "id": "ED7yRBeb4oWM",
        "colab": {
          "base_uri": "https://localhost:8080/"
        },
        "outputId": "cc268dd9-fd82-4697-ecff-0a2a0542b66d"
      },
      "execution_count": null,
      "outputs": [
        {
          "output_type": "stream",
          "name": "stdout",
          "text": [
            "tensor(9, device='cuda:0')\n"
          ]
        }
      ]
    },
    {
      "cell_type": "code",
      "source": [
        "from IPython.display import display, Image\n",
        "\n",
        "# img_1.jpg\n",
        "image_path = 'img_1.jpg'\n",
        "# Display the image\n",
        "display(Image(filename=image_path))\n",
        "\n",
        "image_path = 'img_2.jpg'\n",
        "# Display the image\n",
        "display(Image(filename=image_path))\n",
        "\n",
        "image_path = 'img_3.jpg'\n",
        "# Display the image\n",
        "display(Image(filename=image_path))\n"
      ],
      "metadata": {
        "colab": {
          "base_uri": "https://localhost:8080/",
          "height": 101
        },
        "id": "GxT2MVBl88ny",
        "outputId": "efdc7c32-25ee-4365-d380-d30ef87c98ac"
      },
      "execution_count": null,
      "outputs": [
        {
          "output_type": "display_data",
          "data": {
            "image/jpeg": "[encoded data removed]",
            "text/plain": [
              "<IPython.core.display.Image object>"
            ]
          },
          "metadata": {}
        },
        {
          "output_type": "display_data",
          "data": {
            "image/jpeg": "[encoded data removed]",
            "text/plain": [
              "<IPython.core.display.Image object>"
            ]
          },
          "metadata": {}
        },
        {
          "output_type": "display_data",
          "data": {
            "image/jpeg": "[encoded data removed]",
            "text/plain": [
              "<IPython.core.display.Image object>"
            ]
          },
          "metadata": {}
        }
      ]
    },
    {
      "cell_type": "code",
      "source": [
        "import torch\n",
        "from torchvision import datasets, transforms\n",
        "from torch.utils.data import DataLoader\n",
        "\n",
        "# Load MNIST test dataset\n",
        "test_data = datasets.MNIST(root='data', train=False, download=True, transform=transforms.ToTensor())\n",
        "test_loader = DataLoader(test_data, batch_size=32)\n",
        "\n",
        "# Assuming 'clf' is your trained model\n",
        "clf.eval()  # Set the model to evaluation mode\n",
        "correct = 0\n",
        "total = 0\n",
        "\n",
        "with torch.no_grad():  # Disable gradient calculations during testing\n",
        "    for images, labels in test_loader:\n",
        "        images, labels = images.to('cuda'), labels.to('cuda')\n",
        "        outputs = clf(images)\n",
        "        _, predicted = torch.max(outputs.data, 1)\n",
        "        total += labels.size(0)\n",
        "        correct += (predicted == labels).sum().item()\n",
        "\n",
        "accuracy = 100 * correct / total\n",
        "print(f'Accuracy of the model on the 10000 test images: {accuracy:.2f}%')"
      ],
      "metadata": {
        "colab": {
          "base_uri": "https://localhost:8080/"
        },
        "id": "aYiOPGQe-H_k",
        "outputId": "7c879397-09ee-4372-d68f-23a0de0dec7d"
      },
      "execution_count": null,
      "outputs": [
        {
          "output_type": "stream",
          "name": "stdout",
          "text": [
            "Accuracy of the model on the 10000 test images: 98.24%\n"
          ]
        }
      ]
    }
  ]
}